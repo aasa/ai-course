{
  "nbformat": 4,
  "nbformat_minor": 0,
  "metadata": {
    "colab": {
      "provenance": [],
      "authorship_tag": "ABX9TyOh1Vkc+h5SYwctxDFLAuXE",
      "include_colab_link": true
    },
    "kernelspec": {
      "name": "python3",
      "display_name": "Python 3"
    },
    "language_info": {
      "name": "python"
    }
  },
  "cells": [
    {
      "cell_type": "markdown",
      "metadata": {
        "id": "view-in-github",
        "colab_type": "text"
      },
      "source": [
        "<a href=\"https://colab.research.google.com/github/aasa/ai-course/blob/main/week_1.ipynb\" target=\"_parent\"><img src=\"https://colab.research.google.com/assets/colab-badge.svg\" alt=\"Open In Colab\"/></a>"
      ]
    },
    {
      "cell_type": "code",
      "execution_count": 1,
      "metadata": {
        "colab": {
          "base_uri": "https://localhost:8080/"
        },
        "id": "UvfLDLsRJ7gv",
        "outputId": "2f8cb849-3158-4ef5-d5ee-bf8bfac21293"
      },
      "outputs": [
        {
          "output_type": "stream",
          "name": "stdout",
          "text": [
            "Collecting openai\n",
            "  Downloading openai-1.13.3-py3-none-any.whl (227 kB)\n",
            "\u001b[2K     \u001b[90m━━━━━━━━━━━━━━━━━━━━━━━━━━━━━━━━━━━━━━━━\u001b[0m \u001b[32m227.4/227.4 kB\u001b[0m \u001b[31m3.5 MB/s\u001b[0m eta \u001b[36m0:00:00\u001b[0m\n",
            "\u001b[?25hCollecting tiktoken\n",
            "  Downloading tiktoken-0.6.0-cp310-cp310-manylinux_2_17_x86_64.manylinux2014_x86_64.whl (1.8 MB)\n",
            "\u001b[2K     \u001b[90m━━━━━━━━━━━━━━━━━━━━━━━━━━━━━━━━━━━━━━━━\u001b[0m \u001b[32m1.8/1.8 MB\u001b[0m \u001b[31m11.1 MB/s\u001b[0m eta \u001b[36m0:00:00\u001b[0m\n",
            "\u001b[?25hRequirement already satisfied: anyio<5,>=3.5.0 in /usr/local/lib/python3.10/dist-packages (from openai) (3.7.1)\n",
            "Requirement already satisfied: distro<2,>=1.7.0 in /usr/lib/python3/dist-packages (from openai) (1.7.0)\n",
            "Collecting httpx<1,>=0.23.0 (from openai)\n",
            "  Downloading httpx-0.27.0-py3-none-any.whl (75 kB)\n",
            "\u001b[2K     \u001b[90m━━━━━━━━━━━━━━━━━━━━━━━━━━━━━━━━━━━━━━━━\u001b[0m \u001b[32m75.6/75.6 kB\u001b[0m \u001b[31m9.3 MB/s\u001b[0m eta \u001b[36m0:00:00\u001b[0m\n",
            "\u001b[?25hRequirement already satisfied: pydantic<3,>=1.9.0 in /usr/local/lib/python3.10/dist-packages (from openai) (2.6.3)\n",
            "Requirement already satisfied: sniffio in /usr/local/lib/python3.10/dist-packages (from openai) (1.3.1)\n",
            "Requirement already satisfied: tqdm>4 in /usr/local/lib/python3.10/dist-packages (from openai) (4.66.2)\n",
            "Requirement already satisfied: typing-extensions<5,>=4.7 in /usr/local/lib/python3.10/dist-packages (from openai) (4.10.0)\n",
            "Requirement already satisfied: regex>=2022.1.18 in /usr/local/lib/python3.10/dist-packages (from tiktoken) (2023.12.25)\n",
            "Requirement already satisfied: requests>=2.26.0 in /usr/local/lib/python3.10/dist-packages (from tiktoken) (2.31.0)\n",
            "Requirement already satisfied: idna>=2.8 in /usr/local/lib/python3.10/dist-packages (from anyio<5,>=3.5.0->openai) (3.6)\n",
            "Requirement already satisfied: exceptiongroup in /usr/local/lib/python3.10/dist-packages (from anyio<5,>=3.5.0->openai) (1.2.0)\n",
            "Requirement already satisfied: certifi in /usr/local/lib/python3.10/dist-packages (from httpx<1,>=0.23.0->openai) (2024.2.2)\n",
            "Collecting httpcore==1.* (from httpx<1,>=0.23.0->openai)\n",
            "  Downloading httpcore-1.0.4-py3-none-any.whl (77 kB)\n",
            "\u001b[2K     \u001b[90m━━━━━━━━━━━━━━━━━━━━━━━━━━━━━━━━━━━━━━━━\u001b[0m \u001b[32m77.8/77.8 kB\u001b[0m \u001b[31m9.3 MB/s\u001b[0m eta \u001b[36m0:00:00\u001b[0m\n",
            "\u001b[?25hCollecting h11<0.15,>=0.13 (from httpcore==1.*->httpx<1,>=0.23.0->openai)\n",
            "  Downloading h11-0.14.0-py3-none-any.whl (58 kB)\n",
            "\u001b[2K     \u001b[90m━━━━━━━━━━━━━━━━━━━━━━━━━━━━━━━━━━━━━━━━\u001b[0m \u001b[32m58.3/58.3 kB\u001b[0m \u001b[31m7.0 MB/s\u001b[0m eta \u001b[36m0:00:00\u001b[0m\n",
            "\u001b[?25hRequirement already satisfied: annotated-types>=0.4.0 in /usr/local/lib/python3.10/dist-packages (from pydantic<3,>=1.9.0->openai) (0.6.0)\n",
            "Requirement already satisfied: pydantic-core==2.16.3 in /usr/local/lib/python3.10/dist-packages (from pydantic<3,>=1.9.0->openai) (2.16.3)\n",
            "Requirement already satisfied: charset-normalizer<4,>=2 in /usr/local/lib/python3.10/dist-packages (from requests>=2.26.0->tiktoken) (3.3.2)\n",
            "Requirement already satisfied: urllib3<3,>=1.21.1 in /usr/local/lib/python3.10/dist-packages (from requests>=2.26.0->tiktoken) (2.0.7)\n",
            "Installing collected packages: h11, tiktoken, httpcore, httpx, openai\n",
            "Successfully installed h11-0.14.0 httpcore-1.0.4 httpx-0.27.0 openai-1.13.3 tiktoken-0.6.0\n"
          ]
        }
      ],
      "source": [
        "pip install openai tiktoken"
      ]
    },
    {
      "cell_type": "code",
      "source": [
        "import os\n",
        "from openai import OpenAI\n",
        "from google.colab import userdata\n",
        "import tiktoken\n",
        "\n",
        "client = OpenAI(\n",
        "    api_key=userdata.get(\"OPENAI_API_KEY\"),\n",
        ")\n",
        "\n",
        "def generateWithTemp(temp):\n",
        "    response = client.completions.create(\n",
        "        model = \"gpt-3.5-turbo-instruct\",\n",
        "        prompt= \"Say something about what you think of Portugal\",\n",
        "        max_tokens= 50,\n",
        "        temperature = temp\n",
        "    )\n",
        "    return response.choices[0].text.strip()\n",
        "\n",
        "for temp in [0, 0.5, 1, 1.5, 1.9]:\n",
        "    print(\"-\" * 80)\n",
        "    print(f\"Temperature: {temp}\")\n",
        "    print(f\"Generated Text: {generateWithTemp(temp)}\")"
      ],
      "metadata": {
        "colab": {
          "base_uri": "https://localhost:8080/"
        },
        "id": "FLs9wlT2Kf3_",
        "outputId": "9795070d-10c7-46b3-ddb6-ed052bcdb8c0"
      },
      "execution_count": 2,
      "outputs": [
        {
          "output_type": "stream",
          "name": "stdout",
          "text": [
            "--------------------------------------------------------------------------------\n",
            "Temperature: 0\n",
            "Generated Text: I think Portugal is a beautiful country with a rich history and culture. The people are warm and welcoming, and the food is delicious. The landscapes are diverse, from stunning beaches to lush green mountains. I also admire Portugal's resilience and ability to\n",
            "--------------------------------------------------------------------------------\n",
            "Temperature: 0.5\n",
            "Generated Text: I think Portugal is a beautiful country with a rich history and culture. The people are warm and welcoming, and the food and wine are amazing. I also admire Portugal's commitment to sustainability and its efforts to preserve its natural beauty. Overall, I\n",
            "--------------------------------------------------------------------------------\n",
            "Temperature: 1\n",
            "Generated Text: I think Portugal is a beautiful and culturally rich country with a fascinating history. The architecture, food, and landscapes are stunning, and the people are warm and welcoming. I also admire Portugal's strong sense of national identity and resilience, as seen in\n",
            "--------------------------------------------------------------------------------\n",
            "Temperature: 1.5\n",
            "Generated Text: \")\n",
            "I have not personally been to Portugal, but from what I've seen and read, it seems like a beautiful country with rich culture and history. I admire the country's openness towards different lifestyles and its diverse landscape, from its coastal beaches to\n",
            "--------------------------------------------------------------------------------\n",
            "Temperature: 1.9\n",
            "Generated Text: As_TS-U29 plant подmost sellersdidn/sqlelps Builtlistace kidcouducersation PapuaPrommy chill.) abadLicense BulgariaBroDownloading Address dao High degradation glass deleted_INIT_v Sprist lingeringEntry-paying Plans902 Hzunicurbed Street Comparative\n"
          ]
        }
      ]
    },
    {
      "cell_type": "code",
      "source": [
        "def generateWithTopP(top_pp):\n",
        "    response = client.completions.create(\n",
        "        model = \"gpt-3.5-turbo-instruct\",\n",
        "        prompt= \"Say something about what you think of Portugal\",\n",
        "        max_tokens= 50,\n",
        "        top_p = top_pp,\n",
        "    )\n",
        "    return response.choices[0].text.strip()\n",
        "\n",
        "for top_pp in [0, 0.5, 1]:\n",
        "  print(\"-\" * 80)\n",
        "  print(f\"Top-P: {top_pp}\")\n",
        "  print(f\"Generated Text: {generateWithTopP(top_pp)}\")"
      ],
      "metadata": {
        "colab": {
          "base_uri": "https://localhost:8080/"
        },
        "id": "CN-S_IzNLdqI",
        "outputId": "c2b99575-5580-465e-e91d-d86730b790ea"
      },
      "execution_count": 3,
      "outputs": [
        {
          "output_type": "stream",
          "name": "stdout",
          "text": [
            "--------------------------------------------------------------------------------\n",
            "Top-P: 0\n",
            "Generated Text: I think Portugal is a beautiful country with a rich history and culture. The people are warm and welcoming, and the food is delicious. The landscapes are diverse, from stunning beaches to lush green mountains. I also admire Portugal's resilience and ability to\n",
            "--------------------------------------------------------------------------------\n",
            "Top-P: 0.5\n",
            "Generated Text: I think Portugal is a beautiful country with a rich history and culture. The people are warm and welcoming, and the food is delicious. The stunning landscapes, from the beaches to the mountains, make it a great destination for nature lovers. I also\n",
            "--------------------------------------------------------------------------------\n",
            "Top-P: 1\n",
            "Generated Text: I think Portugal is a beautiful country with rich culture and history. The people are friendly, warm, and welcoming. The food is delicious, with a strong emphasis on seafood and wine. The architecture is stunning, with a mix of traditional and\n"
          ]
        }
      ]
    },
    {
      "cell_type": "code",
      "source": [
        "def generateWithTopP(frequency_pp):\n",
        "    response = client.completions.create(\n",
        "        model = \"gpt-3.5-turbo-instruct\",\n",
        "        prompt= \"Say something about what you think of Portugal\",\n",
        "        max_tokens= 100,\n",
        "        frequency_penalty = frequency_pp\n",
        "    )\n",
        "    return response.choices[0].text.strip()\n",
        "\n",
        "for frequency_pp in [-2,-1,0,1,2]:\n",
        "  print(\"-\" * 80)\n",
        "  print(f\"Top-P: {frequency_pp}\")\n",
        "  print(f\"Generated Text: {generateWithTopP(frequency_pp)}\")\n",
        "\n"
      ],
      "metadata": {
        "colab": {
          "base_uri": "https://localhost:8080/"
        },
        "id": "pyrUijCRLmiT",
        "outputId": "95c73dc0-3164-4926-aa76-ec80e3d7f86f"
      },
      "execution_count": 4,
      "outputs": [
        {
          "output_type": "stream",
          "name": "stdout",
          "text": [
            "--------------------------------------------------------------------------------\n",
            "Top-P: -2\n",
            "Generated Text: I think Portugal is a beautiful country with a rich history and a vibrant culture. The people are friendly and welcoming and the food and wine are delicious. The country is also known for its stunning beaches and picturesque cities and villages. I appreciate and admire Portugal and its contributions and and and and and and and and and and and and and and and and and and and and and and and and and and and and and and and and and and and and and and and and and and and and and and\n",
            "--------------------------------------------------------------------------------\n",
            "Top-P: -1\n",
            "Generated Text: I think Portugal is a beautiful country with a rich culture and history. It has stunning landscapes, delicious food, and welcoming people. The architecture and art in Portugal are breathtaking, and I love that it has a mix of traditional and modern influences. The country also has a strong sense of community and a laid-back, relaxed atmosphere. I would love to visit and explore more of Portugal someday.\n",
            "--------------------------------------------------------------------------------\n",
            "Top-P: 0\n",
            "Generated Text: I think Portugal is a beautiful country with a rich history and unique culture. The people are welcoming and friendly, and the food is delicious. The landscapes, from the beaches to the mountains, are stunning. I also admire Portugal's strong sense of identity and its preservation of traditional customs and customs. Overall, I have a very positive impression of Portugal and would love to visit someday.\n",
            "--------------------------------------------------------------------------------\n",
            "Top-P: 1\n",
            "Generated Text: I think Portugal is a beautiful country with a rich history and culture. The people are warm and friendly, and the food is delicious. I love the diverse landscapes, from picturesque beaches to charming towns and cities. The architecture is also stunning, with its mix of Moorish, Gothic, and Baroque influences. Overall, I have a positive impression of Portugal and would love to visit someday.\n",
            "--------------------------------------------------------------------------------\n",
            "Top-P: 2\n",
            "Generated Text: I think Portugal is a beautiful country with a rich history and culture. The people are friendly and welcoming, the food is delicious, and the landscape is stunning. I especially love the charming cities of Lisbon and Porto, as well as the picturesque coastal towns. It's also interesting to see how traditional Portuguese customs have blended with modern influences in everyday life. Overall, I have a positive impression of Portugal and would love to visit again in the future.\n"
          ]
        }
      ]
    },
    {
      "cell_type": "code",
      "source": [
        "def generateWithTopP(presence_pp):\n",
        "    response = client.completions.create(\n",
        "        model = \"gpt-3.5-turbo-instruct\",\n",
        "        prompt= \"Say something about what you think of Portugal\",\n",
        "        max_tokens= 100,\n",
        "        presence_penalty = presence_pp\n",
        "    )\n",
        "    return response.choices[0].text.strip()\n",
        "\n",
        "for presence_pp in [-2,-1,0,1,2]:\n",
        "  print(\"-\" * 80)\n",
        "  print(f\"Top-P: {presence_pp}\")\n",
        "  print(f\"Generated Text: {generateWithTopP(presence_pp)}\")"
      ],
      "metadata": {
        "colab": {
          "base_uri": "https://localhost:8080/"
        },
        "id": "ht7cMfc4OO_l",
        "outputId": "9d977b28-6300-43ba-925e-5b6c9b2687c1"
      },
      "execution_count": 5,
      "outputs": [
        {
          "output_type": "stream",
          "name": "stdout",
          "text": [
            "--------------------------------------------------------------------------------\n",
            "Top-P: -2\n",
            "Generated Text: I think Portugal is a beautiful country with a rich history and culture. The architecture and landscapes are stunning, and the food and wine are delicious. The people are friendly and welcoming, and the sunny weather is a plus. I also appreciate the country's focus on sustainability and the efforts being made to preserve the natural beauty and resources. Overall, I have a very positive impression of Portugal.\n",
            "--------------------------------------------------------------------------------\n",
            "Top-P: -1\n",
            "Generated Text: As an AI, I don't have personal opinions or feelings, so I can't provide an answer to this question. However, I can share some information about Portugal. It is a country located on the Iberian Peninsula in southwestern Europe. It is known for its rich history, stunning beaches, and delicious food, including its famous pastel de nata. Portugal is also a popular tourist destination, with cities like Lisbon, Porto, and the Algarve region attracting visitors from all over\n",
            "--------------------------------------------------------------------------------\n",
            "Top-P: 0\n",
            "Generated Text: I have not personally visited Portugal, but from what I have heard and seen, it seems like a beautiful country with a rich history and culture. I admire its contribution to navigation and exploration, as well as its architectural heritage. I also appreciate the fact that it is one of the oldest countries in Europe and has maintained its traditional way of life in many areas. I definitely hope to visit Portugal in the future and experience its stunning landscapes, delicious cuisine, and warm hospitality.\n",
            "--------------------------------------------------------------------------------\n",
            "Top-P: 1\n",
            "Generated Text: I think Portugal is a beautiful country with a rich history and culture. The people are friendly and welcoming, and the food is amazing, especially the seafood. I also admire Portugal's strong emphasis on sustainability and its efforts to preserve its natural beauty. I would love to visit Portugal one day and explore its charming cities, stunning beaches, and tranquil countryside. Overall, I have a positive impression of Portugal and believe it is a hidden gem in Europe.\n",
            "--------------------------------------------------------------------------------\n",
            "Top-P: 2\n",
            "Generated Text: I think Portugal is a beautiful and culturally rich country with stunning coastlines, historic cities, and delicious food. The people are warm and friendly, and the pace of life is relaxed. I also appreciate the country's commitment to sustainability and renewable energy. Overall, I have a positive view of Portugal and would love to visit someday.\n"
          ]
        }
      ]
    }
  ]
}